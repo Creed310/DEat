{
 "cells": [
  {
   "cell_type": "code",
   "execution_count": null,
   "id": "802dec15",
   "metadata": {},
   "outputs": [],
   "source": [
    "!pip install pytesseract"
   ]
  },
  {
   "cell_type": "code",
   "execution_count": null,
   "id": "ec7a1faa",
   "metadata": {},
   "outputs": [],
   "source": [
    "import cv2\n",
    "import numpy as np\n",
    "import pytesseract\n",
    "import re\n",
    "import urllib.request"
   ]
  },
  {
   "cell_type": "code",
   "execution_count": null,
   "id": "9a0184ab",
   "metadata": {
    "scrolled": true
   },
   "outputs": [],
   "source": [
    "url = 'https://imgur.com/a/Md1t5WN/zip'\n",
    "url2 = \"https://www.google.com/\""
   ]
  },
  {
   "cell_type": "code",
   "execution_count": null,
   "id": "8a57a0a9",
   "metadata": {},
   "outputs": [],
   "source": [
    "img3 = cv2.imread('myaadhar.jpg')   #any picture\n",
    "print(img3.shape)"
   ]
  },
  {
   "cell_type": "code",
   "execution_count": null,
   "id": "f992de2c",
   "metadata": {},
   "outputs": [],
   "source": [
    "rgb_planes = cv2.split(img3)\n",
    "result_planes = []\n",
    "result_norm_planes = []\n",
    "for plane in rgb_planes:\n",
    "    dilated_img = cv2.dilate(plane, np.ones((10, 10), np.uint8))        #change the value of (10,10) to see different results\n",
    "    bg_img = cv2.medianBlur(dilated_img, 21)\n",
    "    diff_img = 255 - cv2.absdiff(plane, bg_img)\n",
    "    norm_img = cv2.normalize(diff_img, None, alpha=0, beta=250, norm_type=cv2.NORM_MINMAX,\n",
    "                                                 dtype=cv2.CV_8UC1)\n",
    "    result_planes.append(diff_img)\n",
    "    result_norm_planes.append(norm_img)\n",
    "\n",
    "result = cv2.merge(result_planes)\n",
    "result_norm = cv2.merge(result_norm_planes)\n",
    "dst = cv2.fastNlMeansDenoisingColored(result_norm, None, 10, 10, 7, 11)             # removing noise from image"
   ]
  },
  {
   "cell_type": "code",
   "execution_count": null,
   "id": "f99668b3",
   "metadata": {},
   "outputs": [],
   "source": [
    "text = pytesseract.image_to_string(dst).upper().replace(\" \", \"\")\n",
    "\n",
    "dob = str(re.findall(r\"[\\d]{1,4}[/-][\\d]{1,4}[/-][\\d]{1,4}\", text)).replace(\"]\", \"\").replace(\"[\",\"\").replace(\"'\", \"\")\n",
    "print(dob)\n",
    "aadhar_no = str(re.findall(r\"[0-9]{11,12}\", text)).replace(\"]\", \"\").replace(\"[\",\"\").replace(\"'\", \"\")\n",
    "print(aadhar_no)\n",
    "sex = str(re.findall(r\"MALE|FEMALE\", text)).replace(\"[\",\"\").replace(\"'\", \"\").replace(\"]\", \"\")\n",
    "print(sex)\n",
    "\n",
    "cv2.imshow('original',img3)\n",
    "cv2.imshow('edited',dst)\n",
    "cv2.destroyAllWindows()"
   ]
  },
  {
   "cell_type": "code",
   "execution_count": null,
   "id": "4faa8b40",
   "metadata": {},
   "outputs": [],
   "source": [
    "import json\n",
    "\n",
    "PyAadhar = {\"dob\": dob, \"aadhar_no\": aadhar_no, \"sex\": sex}\n",
    "JSONAadhar = json.dumps(PyAadhar)\n",
    "\n",
    "print(JSONAadhar, type(JSONAadhar))"
   ]
  },
  {
   "cell_type": "code",
   "execution_count": null,
   "id": "0690bbf3",
   "metadata": {},
   "outputs": [],
   "source": []
  }
 ],
 "metadata": {
  "kernelspec": {
   "display_name": "Python 3 (ipykernel)",
   "language": "python",
   "name": "python3"
  },
  "language_info": {
   "codemirror_mode": {
    "name": "ipython",
    "version": 3
   },
   "file_extension": ".py",
   "mimetype": "text/x-python",
   "name": "python",
   "nbconvert_exporter": "python",
   "pygments_lexer": "ipython3",
   "version": "3.8.8"
  }
 },
 "nbformat": 4,
 "nbformat_minor": 5
}
